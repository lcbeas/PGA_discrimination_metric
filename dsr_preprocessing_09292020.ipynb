{
 "cells": [
  {
   "cell_type": "code",
   "execution_count": 1,
   "metadata": {},
   "outputs": [],
   "source": [
    "import pandas as pd \n",
    "import numpy as np \n",
    "from sklearn.preprocessing import StandardScaler\n",
    "from scipy import stats"
   ]
  },
  {
   "cell_type": "code",
   "execution_count": 4,
   "metadata": {},
   "outputs": [],
   "source": [
    "real_df = pd.read_csv('C:/Users/Luke/OneDrive/Research/sg_data/scaled_round_sg_2018.csv')\n",
    "def create_weights(df):\n",
    "    weights = []\n",
    "    n = len(df['p_idx'])\n",
    "    for player in pd.unique(df['p_idx']):\n",
    "        weights.append(len(df[df['p_idx'] == player])/n)\n",
    "    return weights\n",
    "\n",
    "scaled_weights = create_weights(real_df)\n",
    "scaled_weights_df = pd.DataFrame({'plyr': pd.unique(real_df['player']),'p_idx': pd.unique(real_df['p_idx']), 'weight': scaled_weights}).sort_values(by=['p_idx']).set_index(np.arange(len(scaled_weights)))\n",
    "\n",
    "\n",
    "def create_course_weights(df):\n",
    "    weights = []\n",
    "    n = len(df['c_idx'])\n",
    "    for course in pd.unique(df['c_idx']):\n",
    "        weights.append(len(df[df['c_idx'] == course])/n)\n",
    "    return weights\n",
    "\n",
    "course_weights = create_course_weights(real_df)\n",
    "course_weights_df = pd.DataFrame({'course': pd.unique(real_df['course_name']),'c_idx': pd.unique(real_df['c_idx']), 'weight': course_weights}).sort_values(by=['c_idx']).set_index(np.arange(len(course_weights)))\n",
    "\n",
    "\n",
    "scaled_weights_df.to_csv('C:/Users/Luke/OneDrive/Research/sg_data/realv2_plyr_weights.csv')\n",
    "course_weights_df.to_csv('C:/Users/Luke/OneDrive/Research/sg_data/realv2_course_weights.csv')"
   ]
  },
  {
   "cell_type": "code",
   "execution_count": 6,
   "metadata": {},
   "outputs": [],
   "source": [
    "nodsr_p_sg_ = pd.read_csv('C:/Users/Luke/OneDrive/Research/sg_data/realv2_plyr_nodsr.csv').sort_values(by = 'player').reset_index(drop=True)\n",
    "nodsr_h_sg_ = pd.read_csv('C:/Users/Luke/OneDrive/Research/sg_data/realv2_course_nodsr.csv').sort_values(by = 'course_name').reset_index(drop=True)\n",
    "\n",
    "def create_weights(df):\n",
    "    weights = []\n",
    "    n = len(df['p_idx'])\n",
    "    for player in pd.unique(df['p_idx']):\n",
    "        weights.append(len(df[df['p_idx'] == player])/n)\n",
    "    return weights\n",
    "\n",
    "scaled_weights = create_weights(real_df)\n",
    "scaled_weights_df = pd.DataFrame({'plyr': pd.unique(real_df['player']),'p_idx': pd.unique(real_df['p_idx']), 'weight': scaled_weights}).sort_values(by=['p_idx']).set_index(np.arange(len(scaled_weights)))\n",
    "scaled_weights_df['sg_drive_mean']= nodsr_p_sg_['sg_drive']\n",
    "scaled_weights_df['sg_appr_mean']= nodsr_p_sg_['sg_appr']\n",
    "scaled_weights_df['sg_short_mean']= nodsr_p_sg_['sg_short']\n",
    "scaled_weights_df['sg_putt_mean']= nodsr_p_sg_['sg_putt']\n",
    "scaled_weights_df['sg_total_mean']= nodsr_p_sg_['sg_drive'] + nodsr_p_sg_['sg_appr'] + nodsr_p_sg_['sg_short'] +nodsr_p_sg_['sg_putt'] \n",
    "\n",
    "\n",
    "def create_course_weights(df):\n",
    "    weights = []\n",
    "    n = len(df['c_idx'])\n",
    "    for course in pd.unique(df['c_idx']):\n",
    "        weights.append(len(df[df['c_idx'] == course])/n)\n",
    "    return weights\n",
    "\n",
    "course_weights = create_course_weights(real_df)\n",
    "course_weights_df = pd.DataFrame({'course': pd.unique(real_df['course_name']),'c_idx': pd.unique(real_df['c_idx']), 'weight': course_weights}).sort_values(by=['c_idx']).set_index(np.arange(len(course_weights)))\n",
    "\n",
    "course_weights_df['sg_drive_mean']= nodsr_h_sg_['sg_drive']\n",
    "course_weights_df['sg_appr_mean']= nodsr_h_sg_['sg_appr']\n",
    "course_weights_df['sg_short_mean']= nodsr_h_sg_['sg_short']\n",
    "course_weights_df['sg_putt_mean']= nodsr_h_sg_['sg_putt']\n",
    "course_weights_df['sg_total_mean'] = course_weights_df['sg_drive_mean'] + course_weights_df['sg_appr_mean'] + course_weights_df['sg_short_mean']+course_weights_df['sg_putt_mean']\n",
    "\n",
    "\n",
    "scaled_weights_df.to_csv('C:/Users/Luke/OneDrive/Research/sg_data/realv2_scaled_round_sg_plyr_weights.csv')\n",
    "course_weights_df.to_csv('C:/Users/Luke/OneDrive/Research/sg_data/realv2_scaled_round_sg_course_weights.csv')"
   ]
  }
 ],
 "metadata": {
  "kernelspec": {
   "display_name": "Python 3",
   "language": "python",
   "name": "python3"
  },
  "language_info": {
   "codemirror_mode": {
    "name": "ipython",
    "version": 3
   },
   "file_extension": ".py",
   "mimetype": "text/x-python",
   "name": "python",
   "nbconvert_exporter": "python",
   "pygments_lexer": "ipython3",
   "version": "3.7.6"
  }
 },
 "nbformat": 4,
 "nbformat_minor": 4
}
