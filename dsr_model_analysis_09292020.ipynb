{
 "cells": [
  {
   "cell_type": "code",
   "execution_count": 43,
   "metadata": {},
   "outputs": [],
   "source": [
    "import pandas as pd \n",
    "import numpy as np \n",
    "from sklearn.preprocessing import StandardScaler\n",
    "from scipy import stats\n",
    "import matplotlib.pyplot as plt\n",
    "pd.set_option('display.max_rows', 500)\n",
    "pd.set_option('display.max_columns', 500)\n",
    "pd.set_option('display.width', 1000)"
   ]
  },
  {
   "cell_type": "code",
   "execution_count": 15,
   "metadata": {},
   "outputs": [],
   "source": [
    "## Full by round data\n",
    "real_df = pd.read_csv('C:/Users/Luke/OneDrive/Research/sg_data/scaled_round_sg_2018.csv')\n",
    "\n",
    "nodsr_p_ests = pd.read_csv('C:/Users/Luke/OneDrive/Research/sg_data/realv2_plyr_nodsr.csv')\n",
    "nodsr_c_ests = pd.read_csv('C:/Users/Luke/OneDrive/Research/sg_data/realv2_course_nodsr.csv')\n",
    "nodsr_obj = pd.read_csv('C:/Users/Luke/OneDrive/Research/sg_data/realv2_obj_nodsr.csv')\n",
    "\n",
    "dsr_p_ests = pd.read_csv('C:/Users/Luke/OneDrive/Research/sg_data/realv2_2018_plyr_.csv')\n",
    "dsr_c_ests = pd.read_csv('C:/Users/Luke/OneDrive/Research/sg_data/realv2_2018_csg_sg_.csv')\n",
    "dsr_cd_ests = pd.read_csv('C:/Users/Luke/OneDrive/Research/sg_data/realv2_2018_c_sg_.csv')\n",
    "dsr_obj = pd.read_csv('C:/Users/Luke/OneDrive/Research/sg_data/realv2_2018_obj_.csv')"
   ]
  },
  {
   "cell_type": "code",
   "execution_count": 22,
   "metadata": {},
   "outputs": [
    {
     "name": "stdout",
     "output_type": "stream",
     "text": [
      "     p_idx                player  sg_drive   sg_appr  sg_short   sg_putt  num_rounds\n",
      "247    247              John Oda -0.170111 -1.178593  2.215412 -0.189226        15.0\n",
      "332    332       Morgan Hoffmann -0.671374 -0.988473  1.723633 -1.539897        13.0\n",
      "1        1        Aaron Baddeley -0.718073 -0.150132  1.681483 -0.106355        66.0\n",
      "11      11            Alex Cejka  0.012899 -0.133777  1.626256 -0.244832        60.0\n",
      "346    346           Omar Uresti -1.930652 -2.599463  1.609666 -3.709038        17.0\n",
      "297    297      Louis Oosthuizen  1.120186  0.213057  1.600884  0.541456        42.0\n",
      "219    219             Jason Day  0.808957  0.237493  1.562500  1.782819        47.0\n",
      "267    267           Justin Rose  1.487055  1.264827  1.457145  0.653434        49.0\n",
      "351    351          Patrick Reed  0.476465  0.397794  1.372839  0.668434        59.0\n",
      "482    482          Webb Simpson -0.108278  0.974003  1.324755  1.407334        77.0\n",
      "440    440        Steve Stricker  0.124499  0.653910  1.321077 -0.303261        34.0\n",
      "498    498          Zach Johnson  0.065759  0.724103  1.283911  0.280110        68.0\n",
      "215    215        Jamie Lovemark -0.014116  0.085771  1.272217  0.428445        78.0\n",
      "41      41             Bill Haas -0.374635 -0.143968  1.271662 -0.386050        62.0\n",
      "431    431            Si Woo Kim  0.212399 -0.151674  1.267033 -0.504568        76.0\n",
      "496    496             Zac Blair -0.901395 -0.136159  1.240504  0.326563        46.0\n",
      "55      55       Brandt Snedeker -0.262576  0.106314  1.239849  1.202137        70.0\n",
      "303    303         Marc Leishman  0.336806  0.412719  1.175196  0.516903        69.0\n",
      "457    457           Tiger Woods  0.421507  1.921546  1.148286  0.448797        57.0\n",
      "281    281              Kevin Na -0.569783  0.474156  1.147642  1.481835        70.0\n",
      "199    199      Hideki Matsuyama  0.642216  1.770838  1.141706  0.066466        53.0\n",
      "385    385          Rory McIlroy  1.821309  0.729755  1.102480  0.769851        49.0\n",
      "361    361         Peter Malnati -0.904861 -0.574112  1.085160  1.423781        75.0\n",
      "77      77         Byeong Hun An  1.205459  1.084253  1.069708 -0.540395        69.0\n",
      "256    256         Jonathan Byrd -1.350400 -0.003352  1.062456 -0.268894        48.0\n",
      "484    484          Wesley Bryan -2.663963  0.169152  1.058926  0.779063        51.0\n",
      "446    446        Stuart Appleby -1.112051 -0.937112  1.044837 -0.147736        24.0\n",
      "362    362         Peter Uihlein  0.368770  0.066052  1.044234  0.271439        61.0\n",
      "374    374         Rickie Fowler  0.826952  1.062169  1.041891  0.654459        57.0\n",
      "300    300             Luke List  1.779375  0.496391  1.000099 -0.691393        76.0\n",
      "255    255           Jonas Blixt -0.787304 -1.115268  0.940836  0.562944        48.0\n",
      "204    204           Ian Poulter  0.478640  0.748571  0.922409  0.369677        46.0\n",
      "81      81         Cameron Percy  0.337781 -0.255880  0.918800 -0.447192        41.0\n",
      "356    356            Paul Dunne -1.216899 -3.099074  0.914780  1.106873        15.0\n",
      "347    347    Padraig Harrington -1.054890 -1.604791  0.912823 -0.706585        32.0\n",
      "35      35             Ben Crane -0.685513 -0.250725  0.912639  0.673383        46.0\n",
      "348    348      Parker McLachlin -0.839373 -1.978171  0.903385  1.162602        26.0\n",
      "345    345   Ollie Schniederjans -0.591953  0.244971  0.881673  0.658953        75.0\n",
      "171    171    Francesco Molinari  1.579754  1.171611  0.869195 -1.180045        53.0\n",
      "64      64             Brian Gay -0.272726 -0.076709  0.834979  1.108659        88.0\n",
      "392    392           Ryan Armour  0.056479  0.486675  0.817849 -0.154187        96.0\n",
      "397    397            Ryan Moore  0.828245  0.947729  0.791200 -0.796167        66.0\n",
      "24      24         Andrew Putnam -0.248473  0.767775  0.783093  0.021707        77.0\n",
      "252    252        Johnson Wagner -0.617294  0.195095  0.776875  1.562531        55.0\n",
      "73      73         Brooks Koepka  1.558933  0.319144  0.765996 -0.095331        50.0\n",
      "168    168             Ernie Els -0.136175 -0.279670  0.756943 -0.310248        32.0\n",
      "237    237          Jimmy Walker -0.784327  0.462146  0.754770  0.693861        62.0\n",
      "254    254              Jon Rahm  1.859653  0.514549  0.750589 -0.036158        49.0\n",
      "489    489        William McGirt -0.876747  0.147796  0.713154  0.403979        75.0\n",
      "82      82         Cameron Smith  0.149806  0.478160  0.695221  0.548548        59.0\n",
      "466    466            Tony Finau  1.284982  0.971703  0.684871  0.395289        77.0\n",
      "261    261         Jordan Spieth  0.784243  0.742474  0.682012 -0.092071        64.0\n",
      "317    317           Matt Kuchar -0.174286  0.768650  0.673776  1.071851        63.0\n",
      "375    375          Ricky Barnes -2.141085 -0.159929  0.647836  1.010195        45.0\n",
      "83      83      Cameron Tringale -2.924944  0.278764  0.634849 -0.479744        51.0\n",
      "268    268         Justin Thomas  1.183617  1.916049  0.623026  0.479622        64.0\n",
      "76      76            Bud Cauley -0.192527 -0.321808  0.621055  0.609450        41.0\n",
      "386    386        Rory Sabbatini  0.463081 -0.093769  0.618162  0.089285        75.0\n",
      "104    104            Chris Kirk  0.001287  0.810122  0.606727  0.374716        96.0\n",
      "391    391          Russell Knox  0.107104  0.581625  0.581443 -0.397818        70.0\n",
      "464    464       Tommy Fleetwood  1.407671  1.048062  0.579118  0.517609        50.0\n",
      "161    161        Dustin Johnson  2.140566  1.744466  0.577066  1.017509        58.0\n",
      "350    350       Patrick Cantlay  1.556863  1.508570  0.564864  0.216822        63.0\n",
      "284    284  Kiradech Aphibarnrat  1.091510 -0.184467  0.555093  0.349492        30.0\n",
      "84      84       Camilo Villegas -2.563172 -1.509367  0.555045  0.023927        29.0\n",
      "6        6           Adam Hadwin  0.285365  0.637340  0.551478  0.864498        64.0\n",
      "271    271        Keegan Bradley  0.597496  1.709985  0.542005 -0.535751        78.0\n",
      "28      28        Anirban Lahiri  0.217749 -0.228183  0.526170  0.185536        67.0\n",
      "74      74     Bryson DeChambeau  1.486162  1.319331  0.509792  0.834620        74.0\n",
      "32      32           Austin Cook  0.369846  0.100956  0.490621  0.783076        92.0\n",
      "194    194        Harris English -0.406665 -0.453403  0.467512  0.455384        68.0\n",
      "181    181       Graeme McDowell  0.358105 -0.021419  0.459387  1.296432        44.0\n",
      "151    151           Dicky Pride -2.280266 -1.609351  0.447285 -0.786107        19.0\n",
      "363    363        Phil Mickelson  0.043928  0.859722  0.423108  1.316551        66.0\n",
      "366    366    Rafa Cabrera Bello  0.810695  1.547572  0.417156  0.392812        44.0\n",
      "316    316            Matt Jones  0.473157 -0.993837  0.416340 -0.379786        45.0\n",
      "474    474    Tyrone Van Aswegen -1.142294 -0.136793  0.402472  0.084704        83.0\n",
      "157    157             Doug Ghim -0.376685 -0.662853  0.399425 -1.182929        11.0\n",
      "43      43      Billy Hurley III -1.579496 -0.456078  0.398670 -0.151841        57.0\n",
      "376    376         Rob Oppenheim -1.550752 -0.326250  0.397253 -0.229005        54.0\n",
      "275    275              Ken Duke -0.715340 -0.395104  0.389715 -1.595876        28.0\n",
      "51      51         Branden Grace  0.575743  0.642279  0.388902  0.760510        40.0\n",
      "352    352       Patrick Rodgers -0.069605 -0.596104  0.377424  1.338791        69.0\n",
      "475    475        Tyrrell Hatton  0.752904  0.581125  0.374876  0.592997        38.0\n",
      "310    310          Martin Laird -0.003541  0.221284  0.367015  0.556607        61.0\n",
      "299    299           Luke Donald -2.241716 -0.519969  0.354415  1.202449        22.0\n",
      "214    214            James Hahn  0.587599  0.034048  0.352288 -0.287854        69.0\n",
      "495    495            Yuta Ikeda -0.343537  0.798694  0.349181 -4.139093        15.0\n",
      "458    458            Tim Herron -0.537399 -0.847937  0.338973 -0.412519        25.0\n",
      "453    453       Ted Potter, Jr. -0.050822 -0.246261  0.337071  0.517851        75.0\n",
      "435    435        Stephan Jaeger -0.195287 -0.483850  0.324859 -0.534927        63.0\n",
      "422    422         Sergio Garcia  0.528467  1.359600  0.324757 -0.205141        32.0\n",
      "233    233             Jim Furyk -0.617805  0.302220  0.312924  1.204660        42.0\n",
      "265    265           Julian Suri  0.045724  0.264949  0.309464 -1.415563        27.0\n",
      "92      92    Charles Howell III  0.792915  0.628808  0.307275  0.393372        74.0\n",
      "355    355            Paul Casey  0.762681  1.441486  0.286348  0.501783        45.0\n",
      "380    380          Robert Streb -1.427628 -0.037391  0.257141  0.040984        60.0\n",
      "88      88         Chad Campbell -0.188019 -0.062055  0.240187 -1.309731        67.0\n",
      "155    155      Dominic Bozzelli -0.718304 -0.337373  0.228691  0.546443        61.0\n",
      "349    349             Pat Perez  0.237138 -0.245093  0.218568  0.696646        47.0\n",
      "477    477         Vaughn Taylor -0.148018  0.428437  0.185945  0.070379        70.0\n",
      "184    184        Grayson Murray  0.847963 -0.841371  0.183325 -0.724394        59.0\n",
      "8        8            Adam Scott  0.898260  1.499413  0.179731  0.240354        58.0\n",
      "248    248         John Peterson  0.306824  0.990649  0.171734 -1.730184        28.0\n",
      "121    121           D.A. Points -2.113489 -0.812447  0.169466 -0.061578        48.0\n",
      "290    290          Kyle Stanley  0.985822  1.088987  0.163395 -0.123786        65.0\n",
      "75      75          Bubba Watson  1.880833  0.095660  0.158042 -0.032065        66.0\n",
      "68      68          Brian Stuard -0.606100  0.067275  0.157178  0.516636        86.0\n",
      "209    209           J.T. Poston  0.524296 -0.803478  0.155099  0.142090        57.0\n",
      "372    372        Richy Werenski  0.143673 -0.143622  0.140963 -0.423658        72.0\n",
      "394    394            Ryan Blaum -0.075580 -0.018649  0.139580 -0.180930        72.0\n",
      "298    298          Lucas Glover  1.026135  0.006475  0.133223 -0.275749        44.0\n",
      "205    205           J.B. Holmes  1.325612  0.265314  0.118855 -0.780325        68.0\n",
      "367    367         Retief Goosen -0.991802  0.294868  0.116449 -0.734104        40.0\n",
      "444    444          Stewart Cink  0.199885  1.268295  0.113986 -0.702287        67.0\n",
      "90      90      Charl Schwartzel  0.183061 -0.032292  0.096854  0.545458        40.0\n",
      "239    239           Joel Dahmen  0.439419  0.732618  0.096110 -0.606429        71.0\n",
      "283    283            Kevin Tway  0.605022 -0.095128  0.078078  0.303990        90.0\n",
      "414    414          Scott Piercy  0.458310  1.108220  0.066472 -1.074739        64.0\n",
      "46      46             Bob Estes -1.041173 -0.490002  0.060707 -1.734060        17.0\n",
      "45      45         Blayne Barber  0.114685 -0.271666  0.055875  0.004119        60.0\n",
      "98      98       Cheng Tsung Pan  0.419647  0.603976  0.049985 -0.146123        82.0\n",
      "415    415       Scott Stallings -0.112337  0.670526  0.048587  0.174234        78.0\n",
      "328    328      Michael Thompson -0.326519 -0.679624  0.046856  0.963926        56.0\n",
      "13      13            Alex Noren  0.672846  0.737993  0.034486  1.451388        45.0\n",
      "280    280          Kevin Kisner  0.087589 -0.522571  0.033712  1.095669        63.0\n",
      "165    165       Emiliano Grillo  0.864580  0.910355  0.029230  1.039927        71.0\n",
      "33      33          Beau Hossler  0.760610 -0.668390  0.019393  1.273751        90.0\n",
      "198    198        Henrik Stenson  1.210770  1.616034  0.002326 -0.904353        40.0\n",
      "2        2            Aaron Wise  1.065777  0.176795 -0.002882  0.705291        78.0\n",
      "338    338           Nick Taylor -0.037383 -0.075708 -0.007595 -0.557131        74.0\n",
      "166    166            Eric Axley -1.769889 -2.586843 -0.012381  1.510798        14.0\n",
      "129    129             Danny Lee -0.064512 -0.344453 -0.013311  0.610064        70.0\n",
      "320    320   Matthew Fitzpatrick  0.151981 -0.114115 -0.016528  1.350719        26.0\n",
      "491    491     Xander Schauffele  0.757044  0.799729 -0.018070  0.107981        68.0\n",
      "218    218            Jason Bohn -2.152779 -0.908993 -0.021258 -1.607224        13.0\n",
      "277    277        Kevin Chappell  1.284486  0.862510 -0.029377 -0.857357        58.0\n",
      "427    427         Shawn Stefani -0.262031  0.086915 -0.031164 -0.073683        60.0\n",
      "450    450           Talor Gooch -0.742957 -0.216335 -0.048264  0.228552        62.0\n",
      "291    291         Kyle Thompson -1.423027  0.088034 -0.066328 -2.065072        36.0\n",
      "282    282       Kevin Streelman  0.890192  0.746230 -0.090012 -0.634923        82.0\n",
      "418    418          Seamus Power  0.069258 -0.890337 -0.092158  0.976943        66.0\n",
      "232    232       Jhonattan Vegas  0.835756  0.028744 -0.094511  0.157521        60.0\n",
      "193    193     Harold Varner III  0.526467 -0.076266 -0.115413  0.148997        72.0\n",
      "469    469          Troy Merritt  0.227590  0.049389 -0.136868  0.235428        73.0\n",
      "307    307           Mark Wilson -1.425691 -1.887309 -0.142024 -2.544209        18.0\n",
      "145    145        Denny McCarthy -0.145929 -0.764010 -0.169072  0.965227        49.0\n",
      "333    333          Nate Lashley  0.140436  0.064089 -0.173579 -0.037135        35.0\n",
      "176    176          Geoff Ogilvy -1.691359 -1.353935 -0.196503 -0.679612        32.0\n",
      "250    250           John Senden  0.475354 -0.994272 -0.200893 -1.634511        20.0\n",
      "502    502           Zecheng Dou -0.391662 -0.675200 -0.204641 -1.721623        36.0\n",
      "170    170          Fabián Gómez -0.353149 -0.161010 -0.207208 -0.055986        71.0\n",
      "309    309         Martin Kaymer -0.564498  0.645183 -0.228476 -0.035118        23.0\n",
      "292    292         Lanto Griffin -0.219080 -0.398943 -0.233928 -0.560881        58.0\n",
      "425    425           Shane Lowry  0.793046  0.558369 -0.234561 -0.396332        49.0\n",
      "206    206            J.J. Henry  0.138473  0.461966 -0.238920 -1.641756        63.0\n",
      "390    390        Russell Henley  0.288059  0.948901 -0.242816  0.230163        54.0\n",
      "313    313           Matt Atkins -0.023531 -2.084802 -0.247254 -0.592931        40.0\n",
      "308    308         Martin Flores -0.260607 -0.307061 -0.252650 -0.549543        72.0\n",
      "246    246          John Merrick -0.775774 -0.843838 -0.263906 -2.718458        18.0\n",
      "335    335     Nicholas Lindheim -0.740610 -0.867014 -0.267511  0.704197        59.0\n",
      "222    222          Jason Kokrak  0.762767  0.411842 -0.269429  0.394235        88.0\n",
      "94      94       Charley Hoffman  0.593283  0.457182 -0.270496  0.358282        64.0\n",
      "178    178        George McNeill -0.643076  0.226299 -0.271473 -1.455254        19.0\n",
      "110    110          Cody Gribble -0.581253 -1.559610 -0.273994  0.291359        54.0\n",
      "467    467         Trey Mullinax  0.969789 -0.856077 -0.279772  0.549530        57.0\n",
      "270    270             K.J. Choi -0.929928 -1.090108 -0.280708  0.542818        26.0\n",
      "136    136       David Lingmerth -0.037457 -0.141508 -0.282169  0.486766        69.0\n",
      "461    461              Tom Hoge -0.036048  0.556255 -0.285560 -0.278098        83.0\n",
      "409    409          Sam Saunders  0.631858 -0.322994 -0.288876  0.409104        67.0\n",
      "3        3         Abraham Ancer  0.769154  0.367105 -0.291728 -0.279249        83.0\n",
      "7        7           Adam Schenk -0.069352 -0.480317 -0.293691  0.268585        66.0\n",
      "301    301      Mackenzie Hughes -0.298076  0.553519 -0.298256 -0.124641        66.0\n",
      "54      54         Brandon Stone  0.345460 -0.709242 -0.300970  0.487052        12.0\n",
      "326    326           Michael Kim -2.142399 -0.526394 -0.327623  0.271760        54.0\n",
      "243    243              John Huh -0.301097  0.528049 -0.329790  0.296310        82.0\n",
      "21      21         Andrew Landry  0.520505 -0.165434 -0.333222  0.026708        73.0\n",
      "273    273        Keith Mitchell  1.460946 -0.411625 -0.345756 -0.921637        83.0\n",
      "382    382          Rod Pampling -0.277053 -0.857723 -0.350349 -1.529911        45.0\n",
      "162    162       Dylan Frittelli  0.988176  0.710484 -0.357724  0.085771        24.0\n",
      "412    412           Scott Brown -0.651455 -0.470313 -0.364425  0.222480        81.0\n",
      "107    107          Chris Stroud -0.424220 -0.055994 -0.368708  0.438452        58.0\n",
      "478    478           Vijay Singh -0.011955  0.767880 -0.373035 -2.865219        25.0\n",
      "253    253            Jon Curran -2.748173 -1.441193 -0.381093  0.058553        24.0\n",
      "353    353        Patton Kizzire -0.328730  0.970373 -0.400137  0.391823        78.0\n",
      "485    485              Whee Kim -1.579245  0.029254 -0.409243  0.986655        73.0\n",
      "99      99        Chesson Hadley  0.372283  0.989752 -0.433572  0.362605        87.0\n",
      "447    447             Sung Kang -0.923928 -0.197965 -0.462480 -0.187651        67.0\n",
      "37      37            Ben Martin -0.439758  0.375498 -0.462811  0.332863        57.0\n",
      "492    492          Xinjun Zhang  0.128067 -0.721033 -0.473559 -0.997363        57.0\n",
      "339    339           Nick Watney  0.460816  0.287559 -0.478509  0.806834        80.0\n",
      "410    410          Sangmoon Bae -0.168551 -1.532332 -0.482028 -0.359758        32.0\n",
      "38      38         Ben Silverman  0.017214 -0.867952 -0.485016  0.411056        76.0\n",
      "65      65          Brian Harman  0.438968 -0.035186 -0.501478  0.570684        68.0\n",
      "135    135           David Hearn -0.505203  0.349973 -0.510225  0.006080        50.0\n",
      "455    455        Thomas Pieters -0.078288  1.321098 -0.543530  0.776632        20.0\n",
      "398    398           Ryan Palmer  0.561727  0.301459 -0.558358 -0.909477        60.0\n",
      "471    471          Tyler Duncan  0.297489  0.604180 -0.566773 -1.349715        77.0\n",
      "408    408             Sam Ryder  0.202983  0.695189 -0.569355 -0.557408        70.0\n",
      "100    100           Chez Reavie  0.429727  0.845792 -0.582695  0.773188        58.0\n",
      "274    274           Kelly Kraft -0.670968  0.163503 -0.608718  0.010580        74.0\n",
      "379    379       Robert Garrigus  0.307866  0.264388 -0.624728 -1.487161        68.0\n",
      "494    494       Yusaku Miyazato -0.383287 -1.019011 -0.655815 -3.928122        12.0\n",
      "311    311         Martin Piller -0.735007 -1.312715 -0.666275  0.299906        67.0\n",
      "56      56        Brendan Steele  1.353884  0.599120 -0.676062 -0.815173        50.0\n",
      "449    449            T.J. Vogel -0.155423 -0.203471 -0.677044  0.645757        21.0\n",
      "388    388           Ross Fisher  0.211463  1.176153 -0.695733 -0.469525        24.0\n",
      "53      53       Brandon Harkins  0.393100 -0.211400 -0.710734  0.322390        85.0\n",
      "69      69         Brice Garnett  0.396302 -0.022035 -0.712841 -0.332316        81.0\n",
      "438    438          Steve Marino -0.149487  0.153666 -0.713255 -1.169032        17.0\n",
      "63      63           Brian Davis -1.030003 -0.828572 -0.736656 -1.424638        26.0\n",
      "420    420           Sean O'Hair  0.479354 -0.075910 -0.742295 -0.104642        57.0\n",
      "163    163           Dylan Meyer  0.180509 -0.746133 -0.749642  0.801901        20.0\n",
      "126    126         Daniel Berger  0.517108  1.256973 -0.749714  0.488621        58.0\n",
      "122    122           D.J. Trahan -0.254244 -0.068577 -0.763475 -1.966249        14.0\n",
      "249    249          John Rollins -0.972262 -1.539747 -0.768464 -1.934130        16.0\n",
      "115    115         Corey Conners  0.870601  0.346797 -0.770146 -0.733524        79.0\n",
      "128    128     Daniel Summerhays -2.308932 -2.746326 -0.780757  1.262412        38.0\n",
      "149    149        Derek Fathauer -1.684982 -0.662532 -0.783246  0.659342        68.0\n",
      "220    220          Jason Dufner  0.559217 -0.101216 -0.797342  0.377470        48.0\n",
      "258    258     Jonathan Randolph -0.731053 -1.118928 -0.826852  0.239828        60.0\n",
      "238    238       Joaquin Niemann  1.300705  1.426871 -0.831670 -0.457397        42.0\n",
      "441    441      Steve Wheatcroft -0.074686 -0.361168 -0.855462 -0.708204        46.0\n",
      "185    185         Greg Chalmers -1.557784 -2.133551 -0.871312  1.584499        41.0\n",
      "174    174         Gary Woodland  1.816665  1.132853 -0.900183 -0.128840        66.0\n",
      "42      42        Billy Horschel  1.030239  0.566550 -0.920049  0.674921        77.0\n",
      "381    381          Roberto Díaz -0.398667 -1.216501 -1.080804  0.369215        56.0\n",
      "58      58      Brendon de Jonge -3.245931 -1.345278 -1.084623 -0.093359        23.0\n",
      "462    462          Tom Lovelady  0.688411 -0.565353 -1.116580 -0.337552        69.0\n",
      "112    112            Colt Knost -1.021762 -1.690733 -1.142190  0.093459        18.0\n",
      "113    113       Conrad Shindler -0.095805 -0.244741 -1.191698 -0.517654        44.0\n",
      "153    153            Doc Redman  1.033186 -0.250069 -1.208058 -1.689665        16.0\n",
      "207    207            J.J. Spaun  0.559526  0.701037 -1.280349  0.160617        71.0\n",
      "200    200       Hudson Swafford  0.433697 -0.507216 -1.281285 -0.505878        52.0\n",
      "72      72       Bronson Burgoon  0.546457  0.389416 -1.307286  0.247163        57.0\n",
      "141    141        Davis Love III -0.322523 -0.517137 -1.313324 -1.735247        24.0\n",
      "169    169           Ethan Tracy -0.385250 -0.998859 -1.320994 -0.396904        54.0\n",
      "192    192            HaoTong Li  0.268587  0.254742 -1.346501 -0.944153        19.0\n",
      "85      85       Carl Pettersson -3.898045 -3.461886 -1.356986 -2.344377        16.0\n",
      "286    286           Kris Blanks -0.265034 -1.860763 -1.468486 -3.215151        12.0\n",
      "60      60       Brett Stegmaier -0.350990 -0.064617 -1.492609  0.801731        47.0\n",
      "315    315            Matt Every -0.991441 -0.112129 -1.502404 -0.872801        61.0\n",
      "321    321      Maverick McNealy  0.667568 -0.773463 -1.555073  1.774128        19.0\n",
      "95      95        Charlie Beljan -0.465263 -2.276171 -1.583387 -1.123625        16.0\n",
      "433    433        Smylie Kaufman -3.569417 -3.508907 -1.607864 -0.612786        39.0\n",
      "404    404             Sam Burns  0.403697 -0.274722 -1.785542  1.181223        30.0\n",
      "26      26            Andrew Yun -1.122901 -1.172682 -2.091416 -1.709733        34.0\n",
      "202    202          Hunter Mahan  0.666242 -0.184702 -2.277104  0.837805        51.0\n",
      "429    429     Shubhankar Sharma  0.872629  0.342374 -2.280633 -0.982107        20.0\n",
      "411    411       Satoshi Kodaira  0.185638 -0.328383 -2.397847 -1.410269        38.0\n",
      "377    377        Robert Allenby -1.581118 -0.526102 -2.958219 -1.052264        14.0\n",
      "442    442       Steven Bowditch -3.024910 -3.773106 -3.045678 -3.120980        12.0\n",
      "468    468         Troy Matteson  0.416706 -4.727054 -3.593314 -3.340011        12.0\n",
      "158    158              Dru Love -0.798046  0.139795 -3.750382 -1.461877        13.0\n",
      "465    465          Tommy Gainey -1.071699 -0.993754 -3.909835 -0.252895        17.0\n",
      "373    373             Rick Lamb  0.520467 -1.219505 -4.342949 -0.810806        19.0\n"
     ]
    }
   ],
   "source": [
    "print(dsr_p_ests[dsr_p_ests['num_rounds']>10].sort_values(by = 'sg_short', ascending = False))"
   ]
  },
  {
   "cell_type": "code",
   "execution_count": 65,
   "metadata": {},
   "outputs": [
    {
     "name": "stdout",
     "output_type": "stream",
     "text": [
      "    c_idx                     course_name  dsr_drive  dsr_appr  dsr_short  dsr_putt\n",
      "34      4        Club de Golf Chapultepec   0.829002  0.294283   0.281497  0.254946\n",
      "35     16    Plantation Course at Kapalua   0.779782  0.053457   0.083870  0.999921\n",
      "19     28     TPC San Antonio - AT&T Oaks   0.720464  0.531993   0.465666  0.468073\n",
      "0       1           Bay Hill Club & Lodge   0.686288  0.471509   0.324751  0.563409\n",
      "33     33               The Old White TPC   0.670221  0.435121   0.186440  0.302754\n",
      "20     30                  TPC Scottsdale   0.668806  0.708821   0.135771  0.745877\n",
      "11     17               Quail Hollow Club   0.603452  0.442528   0.465076  0.844499\n",
      "17     26      TPC Potomac at Avenel Farm   0.588041  0.477181   0.349098  0.209243\n",
      "5       8                   GC of Houston   0.586486  0.400553   0.157280  0.393725\n",
      "24      0                    Aronimink GC   0.584707  0.438534   0.157132  0.239830\n",
      "16     25                   TPC Deere Run   0.575676  0.615336   0.124978  0.267902\n",
      "6       9                   Glen Abbey GC   0.574259  0.826169   0.269324  0.354165\n",
      "30     18                    Ridgewood CC   0.573611  0.633144   0.148693  0.999983\n",
      "9      12           Keene Trace Golf Club   0.569626  0.999999   0.228448  0.404728\n",
      "14     21                   Sedgefield CC   0.567460  0.536429   0.226496  0.563381\n",
      "36     29                    TPC Sawgrass   0.552316  0.515672   0.489452  0.565716\n",
      "25      2                    Bellerive CC   0.544572  0.560475   0.313681  0.352453\n",
      "27      7            Firestone CC (South)   0.534958  0.538043   0.391560  0.587975\n",
      "7      10                 Harbour Town GL   0.526490  0.611044   0.367124  0.192783\n",
      "1      31                   TPC Southwind   0.519799  0.595784   0.425389  0.522393\n",
      "12     19                      Riviera CC   0.496086  0.487871   0.805184  0.264789\n",
      "23     36                      Waialae CC   0.492183  0.572861   0.258888  0.438155\n",
      "31     23                  Stadium Course   0.487770  0.649562   0.306609  0.595055\n",
      "18     27             TPC River Highlands   0.461590  0.614948   0.479221  0.354877\n",
      "28     13            Muirfield Village GC   0.450086  0.999998   0.555308  0.101922\n",
      "10     15                 Pebble Beach GL   0.435554  0.427882   0.591401  0.529666\n",
      "32     24                      TPC Boston   0.423962  0.653476   0.304790  0.621738\n",
      "21     34         Torrey Pines GC (South)   0.419213  0.538569   0.331318  0.033312\n",
      "15     22  Silverado Resort and Spa North   0.416373  0.468301   0.199489  0.294257\n",
      "22     35        Trinity Forest Golf Club   0.416084  0.289335   0.234641  0.489588\n",
      "26      6                    East Lake GC   0.399795  0.999996   0.074680  0.296886\n",
      "4       5                     Colonial CC   0.391512  0.649191   0.475114  0.436776\n",
      "29     14         PGA National (Champion)   0.349180  0.874426   0.166469  0.604369\n",
      "13     20     Sea Island Resort (Seaside)   0.335370  0.484024   0.015380  0.427916\n",
      "2      32                   TPC Summerlin   0.328432  0.578517   0.248110  0.532143\n",
      "8      11  Innisbrook Resort (Copperhead)   0.319251  0.693255   0.290871  0.211500\n",
      "3       3                   CC of Jackson   0.309420  0.244795   0.194151  0.559626\n"
     ]
    }
   ],
   "source": [
    "print(dsr_cd_ests.sort_values(by = 'dsr_drive', ascending = False))"
   ]
  },
  {
   "cell_type": "code",
   "execution_count": 61,
   "metadata": {},
   "outputs": [],
   "source": [
    "#print(dsr_cd_ests['c_idx'])\n",
    "#print(dsr_c_ests['c_idx'])"
   ]
  },
  {
   "cell_type": "code",
   "execution_count": 44,
   "metadata": {},
   "outputs": [
    {
     "data": {
      "text/plain": [
       "<matplotlib.collections.PathCollection at 0x18df5d4d288>"
      ]
     },
     "execution_count": 44,
     "metadata": {},
     "output_type": "execute_result"
    },
    {
     "data": {
      "image/png": "[encoded data removed]",
      "text/plain": [
       "<Figure size 432x288 with 1 Axes>"
      ]
     },
     "metadata": {
      "needs_background": "light"
     },
     "output_type": "display_data"
    }
   ],
   "source": [
    "plt.scatter(dsr_c_ests['sg_drive'], dsr_cd_ests['dsr_drive'])"
   ]
  },
  {
   "cell_type": "code",
   "execution_count": 49,
   "metadata": {},
   "outputs": [
    {
     "data": {
      "text/plain": [
       "<matplotlib.collections.PathCollection at 0x18df69f0d08>"
      ]
     },
     "execution_count": 49,
     "metadata": {},
     "output_type": "execute_result"
    },
    {
     "data": {
      "image/png": "[encoded data removed]",
      "text/plain": [
       "<Figure size 432x288 with 1 Axes>"
      ]
     },
     "metadata": {
      "needs_background": "light"
     },
     "output_type": "display_data"
    }
   ],
   "source": [
    "plt.scatter(dsr_c_ests['sg_appr'], dsr_cd_ests['dsr_appr'])"
   ]
  },
  {
   "cell_type": "code",
   "execution_count": 50,
   "metadata": {},
   "outputs": [
    {
     "data": {
      "text/plain": [
       "<matplotlib.collections.PathCollection at 0x18df6a2c508>"
      ]
     },
     "execution_count": 50,
     "metadata": {},
     "output_type": "execute_result"
    },
    {
     "data": {
      "image/png": "[encoded data removed]",
      "text/plain": [
       "<Figure size 432x288 with 1 Axes>"
      ]
     },
     "metadata": {
      "needs_background": "light"
     },
     "output_type": "display_data"
    }
   ],
   "source": [
    "plt.scatter(dsr_c_ests['sg_short'], dsr_cd_ests['dsr_short'])"
   ]
  },
  {
   "cell_type": "code",
   "execution_count": 55,
   "metadata": {},
   "outputs": [
    {
     "data": {
      "text/plain": [
       "<matplotlib.collections.PathCollection at 0x18df6d5a408>"
      ]
     },
     "execution_count": 55,
     "metadata": {},
     "output_type": "execute_result"
    },
    {
     "data": {
      "image/png": "[encoded data removed]",
      "text/plain": [
       "<Figure size 432x288 with 1 Axes>"
      ]
     },
     "metadata": {
      "needs_background": "light"
     },
     "output_type": "display_data"
    }
   ],
   "source": [
    "plt.scatter(dsr_c_ests['sg_putt'], dsr_cd_ests['dsr_putt'])"
   ]
  },
  {
   "cell_type": "code",
   "execution_count": 64,
   "metadata": {},
   "outputs": [
    {
     "data": {
      "text/plain": [
       "<matplotlib.collections.PathCollection at 0x18df6f8e348>"
      ]
     },
     "execution_count": 64,
     "metadata": {},
     "output_type": "execute_result"
    },
    {
     "data": {
      "image/png": "[encoded data removed]",
      "text/plain": [
       "<Figure size 432x288 with 1 Axes>"
      ]
     },
     "metadata": {
      "needs_background": "light"
     },
     "output_type": "display_data"
    }
   ],
   "source": [
    "plt.scatter(dsr_cd_ests['dsr_short'], dsr_cd_ests['dsr_putt'])"
   ]
  }
 ],
 "metadata": {
  "kernelspec": {
   "display_name": "Python 3",
   "language": "python",
   "name": "python3"
  },
  "language_info": {
   "codemirror_mode": {
    "name": "ipython",
    "version": 3
   },
   "file_extension": ".py",
   "mimetype": "text/x-python",
   "name": "python",
   "nbconvert_exporter": "python",
   "pygments_lexer": "ipython3",
   "version": "3.7.6"
  }
 },
 "nbformat": 4,
 "nbformat_minor": 4
}
