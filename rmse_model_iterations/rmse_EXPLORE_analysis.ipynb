{
 "cells": [
  {
   "cell_type": "code",
   "execution_count": 11,
   "metadata": {},
   "outputs": [],
   "source": [
    "import pandas as pd\n",
    "import numpy as np\n",
    "pd.set_option('display.max_rows', 500)\n",
    "pd.set_option('display.max_columns', 500)\n",
    "pd.set_option('display.width', 1000)"
   ]
  },
  {
   "cell_type": "code",
   "execution_count": 12,
   "metadata": {},
   "outputs": [],
   "source": [
    "p_df = pd.read_csv('C:/Users/Luke/OneDrive/Research/model_data/dsr_p_ests.csv')\n",
    "c_df = pd.read_csv('C:/Users/Luke/OneDrive/Research/model_data/dsr_c_ests.csv')\n",
    "h_df = pd.read_csv('C:/Users/Luke/OneDrive/Research/model_data/dsr_d_ests.csv')\n",
    "\n",
    "\n",
    "p_nodsr_df = pd.read_csv('C:/Users/Luke/OneDrive/Research/model_data/nodsr_p_ests.csv')\n",
    "c_nodsr_df = pd.read_csv('C:/Users/Luke/OneDrive/Research/model_data/nodsr_c_ests.csv')\n",
    "\n",
    "\n",
    "# nodsr weights\n",
    "cweights = pd.read_csv(\"C:/Users/Luke/OneDrive/Research/sg_data/scaled_round_sg_course_weights.csv\")[['course','weight','c_idx','sg_drive_mean','sg_appr_mean','sg_short_mean','sg_putt_mean']]\n",
    "pweights = pd.read_csv(\"C:/Users/Luke/OneDrive/Research/sg_data/scaled_round_sg_plyr_weights.csv\")[['plyr','weight','p_idx','sg_drive_mean','sg_appr_mean','sg_short_mean','sg_putt_mean']]\n",
    "\n",
    "cweights.columns = ['course','weight','c_idx','nodsr_drive','nodsr_appr','nodsr_short','nodsr_putt']\n",
    "pweights.columns = ['plyr','weight','p_idx','nodsr_drive','nodsr_appr','nodsr_short','nodsr_putt']\n",
    "\n",
    "# nodsr values\n",
    "con_nodsr_p_sg_ = pd.read_csv('C:/Users/Luke/OneDrive/Research/sg_data/con_nodsr_2018_plyr_.csv').sort_values(by = 'player').reset_index(drop=True)\n",
    "con_nodsr_c_sg_ = pd.read_csv('C:/Users/Luke/OneDrive/Research/sg_data/con_nodsr_2018_h_sg_.csv').sort_values(by = 'course_name').reset_index(drop=True)\n",
    "con_nodsr_obj_ = pd.read_csv('C:/Users/Luke/OneDrive/Research/sg_data/con_nodsr_2018_obj_.csv')\n",
    "\n",
    "\n",
    "# round data\n",
    "real_data_ = pd.read_csv(\"C:/Users/Luke/OneDrive/Research/sg_data/scaled_round_sg_2018.csv\")"
   ]
  },
  {
   "cell_type": "code",
   "execution_count": 145,
   "metadata": {},
   "outputs": [
    {
     "data": {
      "text/plain": [
       "38.185819200000005"
      ]
     },
     "execution_count": 145,
     "metadata": {},
     "output_type": "execute_result"
    }
   ],
   "source": [
    ".004008*len(real_data_)*.67"
   ]
  },
  {
   "cell_type": "code",
   "execution_count": 7,
   "metadata": {},
   "outputs": [],
   "source": [
    "player_est_df = pd.DataFrame({'player': pd.unique(p_df['player']), 'avg_num_rounds': p_df.groupby('player')['num_rounds'].mean().values, 'p_idx': pd.unique(p_df['p_idx']),'est_sg_drive_mean': p_df.groupby('player')['sg_drive'].mean().values, 'est_sg_drive_std': p_df.groupby('player')['sg_drive'].std().values,\n",
    "                          'est_sg_appr_mean': p_df.groupby('player')['sg_appr'].mean().values, 'est_sg_appr_std': p_df.groupby('player')['sg_appr'].std().values,\n",
    "                          'est_sg_short_mean': p_df.groupby('player')['sg_short'].mean().values, 'est_sg_short_std': p_df.groupby('player')['sg_short'].std().values,\n",
    "                          'est_sg_putt_mean': p_df.groupby('player')['sg_putt'].mean().values, 'est_sg_putt_std': p_df.groupby('player')['sg_putt'].std().values\n",
    "                         })\n",
    "\n",
    "course_est_df = pd.DataFrame({'course': pd.unique(c_df['course_name']),'c_idx': pd.unique(c_df['c_idx']), 'est_sg_drive_mean': c_df.groupby('course_name')['sg_drive'].mean().values, 'est_sg_drive_std': c_df.groupby('course_name')['sg_drive'].std().values,\n",
    "                          'est_sg_appr_mean': c_df.groupby('course_name')['sg_appr'].mean().values, 'est_sg_appr_std': c_df.groupby('course_name')['sg_appr'].std().values,\n",
    "                          'est_sg_short_mean': c_df.groupby('course_name')['sg_short'].mean().values, 'est_sg_short_std': c_df.groupby('course_name')['sg_short'].std().values,\n",
    "                          'est_sg_putt_mean': c_df.groupby('course_name')['sg_putt'].mean().values, 'est_sg_putt_std': c_df.groupby('course_name')['sg_putt'].std().values\n",
    "                         })\n"
   ]
  },
  {
   "cell_type": "code",
   "execution_count": 13,
   "metadata": {},
   "outputs": [],
   "source": [
    "full_p_df = pd.merge(player_est_df, pweights, how = 'inner', on = 'p_idx')\n",
    "player_diff = pd.DataFrame({'player': full_p_df['player'], 'avg_rounds': full_p_df['avg_num_rounds'],\n",
    "                                   'sg_drive_diff': full_p_df['est_sg_drive_mean'] - full_p_df['nodsr_drive'],\n",
    "                                  'sg_appr_diff': full_p_df['est_sg_appr_mean'] - full_p_df['nodsr_appr'],\n",
    "                                  'sg_short_diff': full_p_df['est_sg_short_mean'] - full_p_df['nodsr_short'],\n",
    "                                  'sg_putt_diff': full_p_df['est_sg_putt_mean'] - full_p_df['nodsr_putt']})"
   ]
  },
  {
   "cell_type": "code",
   "execution_count": 16,
   "metadata": {},
   "outputs": [
    {
     "name": "stdout",
     "output_type": "stream",
     "text": [
      "Players with a difference of greater than 1 in SG DRIVE: \n",
      "\n",
      "               player  avg_rounds  sg_drive_diff  sg_appr_diff  sg_short_diff  sg_putt_diff\n",
      "14       Andrew Novak        2.35      -0.944437     -0.877213      -0.202465      0.416295\n",
      "37       Brendon Todd        4.00      -0.590798     -0.481079      -0.042565      0.121419\n",
      "78       Craig Barlow        2.00      -0.688362     -0.615586      -0.381787     -0.156468\n",
      "87        David Duval        1.35      -1.487669     -0.561729       0.419778      0.672595\n",
      "257  Scott Strohmeyer        3.30       1.122595     -0.139135      -0.120606     -0.207694\n",
      "\n",
      "Players with a difference of greater than 1 in APPR: \n",
      "\n",
      "                player  avg_rounds  sg_drive_diff  sg_appr_diff  sg_short_diff  sg_putt_diff\n",
      "14        Andrew Novak        2.35      -0.944437     -0.877213      -0.202465      0.416295\n",
      "32        Brandon Hagy        4.00       0.304621     -0.584420       0.190627     -0.003640\n",
      "61       Charles Frost        2.00       0.278037     -0.561171      -0.008422     -0.007922\n",
      "78        Craig Barlow        2.00      -0.688362     -0.615586      -0.381787     -0.156468\n",
      "82       Daniel Chopra        4.00      -0.241031      0.592373      -0.053356      0.279765\n",
      "87         David Duval        1.35      -1.487669     -0.561729       0.419778      0.672595\n",
      "93         Derek Ernst        3.95       0.036170     -0.991636      -0.315298      0.271175\n",
      "104         Eric Axley        8.40      -0.332279     -0.587535       0.021090      0.174461\n",
      "139      Jesse Mueller        2.70      -0.168073     -0.685840      -0.759679     -0.015739\n",
      "147          Johan Kok        2.00       0.140027      0.576009       0.535684     -0.619844\n",
      "199      Michael Block        2.55      -0.132790      0.519975      -0.621009      0.296733\n",
      "244          Ryan Baca        2.00       0.102447     -1.041369      -0.738037     -0.049442\n",
      "258  Scottie Scheffler        2.90      -0.136145      0.554894      -0.118108     -0.555434\n",
      "278    Steven Bowditch        8.00       0.081859     -0.657732      -0.284007      0.026788\n",
      "287   Thorbjørn Olesen        4.00       0.002050      0.550545      -0.054225      0.231558\n",
      "297      Troy Matteson        8.00      -0.067904     -0.710394      -0.173729     -0.043534\n",
      "319      Ángel Cabrera        4.85       0.020850     -0.598787      -0.454937      0.057975\n",
      "\n",
      "Players with a difference of greater than 1 in SHORT: \n",
      "\n",
      "              player  avg_rounds  sg_drive_diff  sg_appr_diff  sg_short_diff  sg_putt_diff\n",
      "90      David Skinns        2.65       0.144748      0.309440       0.544942     -0.376896\n",
      "139    Jesse Mueller        2.70      -0.168073     -0.685840      -0.759679     -0.015739\n",
      "147        Johan Kok        2.00       0.140027      0.576009       0.535684     -0.619844\n",
      "148        John Daly        5.70       0.099169     -0.032088      -0.726227     -0.562060\n",
      "199    Michael Block        2.55      -0.132790      0.519975      -0.621009      0.296733\n",
      "210  Nyasha Mauchaza        2.00       0.213723     -0.017989      -0.950609     -0.430405\n",
      "244        Ryan Baca        2.00       0.102447     -1.041369      -0.738037     -0.049442\n",
      "294     Tommy Gainey       10.60      -0.123093     -0.137595      -0.512233      0.111617\n",
      "\n",
      "Players with a difference of greater than 1 in PUTT: \n",
      "\n",
      "                player  avg_rounds  sg_drive_diff  sg_appr_diff  sg_short_diff  sg_putt_diff\n",
      "10      Alexander Levy        2.00       0.001219      0.097263      -0.069194     -0.830429\n",
      "53       Cameron Davis        3.90       0.073129      0.088459       0.147364      0.561138\n",
      "87         David Duval        1.35      -1.487669     -0.561729       0.419778      0.672595\n",
      "147          Johan Kok        2.00       0.140027      0.576009       0.535684     -0.619844\n",
      "148          John Daly        5.70       0.099169     -0.032088      -0.726227     -0.562060\n",
      "258  Scottie Scheffler        2.90      -0.136145      0.554894      -0.118108     -0.555434\n",
      "260       Sean McCarty        2.35       0.187792      0.230400      -0.333412     -0.919005\n",
      "311      Wyndham Clark        2.80      -0.119285      0.001300      -0.160817     -0.783301\n",
      "314    Yusaku Miyazato        5.80      -0.145726      0.114660       0.017333     -0.712933\n",
      "315         Yuta Ikeda        8.95       0.160097     -0.043942      -0.053401     -0.789152\n"
     ]
    }
   ],
   "source": [
    "interval = 0.\n",
    "\n",
    "print(\"Players with a difference of greater than 1 in SG DRIVE: \\n\")\n",
    "print(player_diff[np.absolute(player_diff['sg_drive_diff']) > interval])\n",
    "print(\"\\nPlayers with a difference of greater than 1 in APPR: \\n\")\n",
    "print(player_diff[np.absolute(player_diff['sg_appr_diff']) > interval])\n",
    "print(\"\\nPlayers with a difference of greater than 1 in SHORT: \\n\")\n",
    "print(player_diff[np.absolute(player_diff['sg_short_diff']) > interval])\n",
    "print(\"\\nPlayers with a difference of greater than 1 in PUTT: \\n\")\n",
    "print(player_diff[np.absolute(player_diff['sg_putt_diff']) > interval])"
   ]
  },
  {
   "cell_type": "code",
   "execution_count": 10,
   "metadata": {},
   "outputs": [
    {
     "name": "stdout",
     "output_type": "stream",
     "text": [
      "Nodsr values (i.e. weights): \n",
      "              plyr    weight  p_idx  nodsr_drive  nodsr_appr  nodsr_short  nodsr_putt\n",
      "134  David Duval  0.000211    134     -3.65167   -1.272342    -0.502718   -1.039868\n",
      "\n",
      "All estimates: \n",
      "        p_idx       player  sg_drive   sg_appr  sg_short   sg_putt  num_rounds\n",
      "87      134  David Duval -5.651656 -1.303682  0.852901  0.423981         1.0\n",
      "407     134  David Duval -4.142667 -2.438764 -1.710958 -2.001027         2.0\n",
      "727     134  David Duval -4.826333 -0.911819  0.824224  0.279957         1.0\n",
      "1047    134  David Duval -5.651552 -1.269336  0.901221  0.511472         1.0\n",
      "1367    134  David Duval -4.700807 -2.444762 -2.111318 -1.882261         2.0\n",
      "1687    134  David Duval -5.651616 -1.558202  0.972272  0.393975         1.0\n",
      "2007    134  David Duval -5.601555 -1.432865  0.886461  0.654052         1.0\n",
      "2327    134  David Duval -5.651623 -1.794214  0.792254  0.109849         1.0\n",
      "2647    134  David Duval -5.651638 -0.796987  0.897927  0.212763         1.0\n",
      "2967    134  David Duval -3.929155 -1.943133 -1.914144 -1.493374         2.0\n",
      "3287    134  David Duval -5.625326 -1.267650  0.910452  0.284482         1.0\n",
      "3607    134  David Duval -5.651636 -2.408395 -1.601000 -2.160159         2.0\n",
      "3927    134  David Duval -5.651652 -2.567577  0.903989  0.334902         1.0\n",
      "4247    134  David Duval -4.082984 -2.503957 -1.609881 -1.853990         2.0\n",
      "4567    134  David Duval -5.121789 -2.203452  0.911817  0.295268         1.0\n",
      "4887    134  David Duval -5.651661 -2.484555  0.918667  0.499189         1.0\n",
      "5207    134  David Duval -3.685322 -2.357400 -1.701748 -1.331823         2.0\n",
      "5527    134  David Duval -5.651638 -1.430708  0.854086  0.329499         1.0\n",
      "5847    134  David Duval -5.651649 -1.284386  0.866560  0.407064         1.0\n",
      "6167    134  David Duval -4.554518 -2.279575 -2.502593 -1.359290         2.0\n",
      "\n",
      " Round estimates from real data: \n",
      "       Unnamed: 0       player               course_name  c_idx  p_idx  round   SG_appr  SG_short  SG_drive   SG_putt\n",
      "3987        3987  David Duval           Pebble Beach GL     15    134      2 -2.301559  1.417241 -4.854050 -0.021085\n",
      "3988        3988  David Duval  Trinity Forest Golf Club     35    134      1  0.513914 -3.082731 -4.215550 -2.348085\n",
      "3989        3989  David Duval  Trinity Forest Golf Club     35    134      2 -0.519198  0.184269 -0.220439 -1.686085\n"
     ]
    }
   ],
   "source": [
    "player = 'David Duval'\n",
    "print('Nodsr values (i.e. weights): \\n ',pweights[pweights['plyr'] == player])\n",
    "print('\\nAll estimates: \\n ', p_df[p_df['player']==player])\n",
    "print('\\n Round estimates from real data: \\n', real_data_[real_data_['player']==player])"
   ]
  }
 ],
 "metadata": {
  "kernelspec": {
   "display_name": "Python 3",
   "language": "python",
   "name": "python3"
  },
  "language_info": {
   "codemirror_mode": {
    "name": "ipython",
    "version": 3
   },
   "file_extension": ".py",
   "mimetype": "text/x-python",
   "name": "python",
   "nbconvert_exporter": "python",
   "pygments_lexer": "ipython3",
   "version": "3.7.6"
  }
 },
 "nbformat": 4,
 "nbformat_minor": 4
}
