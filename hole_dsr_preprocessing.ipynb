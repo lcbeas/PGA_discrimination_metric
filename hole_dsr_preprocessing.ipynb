{
 "cells": [
  {
   "cell_type": "code",
   "execution_count": 1,
   "metadata": {},
   "outputs": [],
   "source": [
    "import pandas as pd \n",
    "import numpy as np \n",
    "from sklearn.preprocessing import StandardScaler\n",
    "from scipy import stats"
   ]
  },
  {
   "cell_type": "code",
   "execution_count": 13,
   "metadata": {},
   "outputs": [],
   "source": [
    "## CREATE HOLE DATA \n",
    "## DON'T NEED TO RUN THIS EVERY TIME\n",
    "\n",
    "sg_data = pd.read_csv('C:/Users/Luke/OneDrive/Research/sg_data/hole_sg_by_shot_category_2018.csv', sep = ';', encoding = 'ISO-8859-1')\n",
    "\n",
    "sg_data[['approach','close','tee','putt']]= pd.get_dummies(sg_data['sg_cat_name'])\n",
    "sg_data['course_hole'] = sg_data.apply(lambda row: (row['course_name'],row['hole']), axis = 1)\n",
    "sg_data['h_idx'] = sg_data.course_hole.astype(\"category\").cat.codes\n",
    "sg_data['p_idx'] = sg_data.player.astype(\"category\").cat.codes\n",
    "sg_data['plyr_hole'] = sg_data.apply(lambda row: (row['p_idx'],row['h_idx']), axis = 1)\n",
    "\n",
    "sg_data['SG_appr']= sg_data['approach']* sg_data['sg']\n",
    "sg_data['SG_short']= sg_data['close']* sg_data['sg']\n",
    "sg_data['SG_drive']= sg_data['tee']* sg_data['sg']\n",
    "sg_data['SG_putt']= sg_data['putt']* sg_data['sg']\n",
    "\n",
    "pp_hole = pd.DataFrame(sg_data.groupby(['player','course_hole','h_idx','p_idx'])['SG_appr'].sum()).reset_index()\n",
    "pp_hole['SG_short'] = pd.DataFrame(sg_data.groupby(['player','course_hole'])['SG_short'].sum()).reset_index()['SG_short']\n",
    "pp_hole['SG_drive'] = pd.DataFrame(sg_data.groupby(['player','course_hole'])['SG_drive'].sum()).reset_index()['SG_drive']\n",
    "pp_hole['SG_putt'] = pd.DataFrame(sg_data.groupby(['player','course_hole'])['SG_putt'].sum()).reset_index()['SG_putt']\n",
    "pp_hole.to_csv('C:/Users/Luke/OneDrive/Research/sg_data/sg_hole_2018_data.csv')"
   ]
  },
  {
   "cell_type": "code",
   "execution_count": 14,
   "metadata": {},
   "outputs": [],
   "source": [
    "real_df = pd.read_csv('C:/Users/Luke/OneDrive/Research/sg_data/sg_hole_2018_data.csv')\n",
    "\n",
    "def create_weights(df):\n",
    "    weights = []\n",
    "    n = len(df['p_idx'])\n",
    "    for player in pd.unique(df['p_idx']):\n",
    "        weights.append(len(df[df['p_idx'] == player])/n)\n",
    "    return weights\n",
    "\n",
    "scaled_weights = create_weights(real_df)\n",
    "scaled_weights_df = pd.DataFrame({'plyr': pd.unique(real_df['player']),'p_idx': pd.unique(real_df['p_idx']), 'weight': scaled_weights}).sort_values(by=['p_idx']).set_index(np.arange(len(scaled_weights)))\n",
    "\n",
    "\n",
    "def create_hole_weights(df):\n",
    "    weights = []\n",
    "    n = len(df['h_idx'])\n",
    "    for course in pd.unique(df['h_idx']):\n",
    "        weights.append(len(df[df['h_idx'] == course])/n)\n",
    "    return weights\n",
    "\n",
    "hole_weights = create_hole_weights(real_df)\n",
    "hole_weights_df = pd.DataFrame({'hole': pd.unique(real_df['course_hole']),'h_idx': pd.unique(real_df['h_idx']), 'weight': hole_weights}).sort_values(by=['h_idx']).set_index(np.arange(len(hole_weights)))\n",
    "\n",
    "\n",
    "scaled_weights_df.to_csv('C:/Users/Luke/OneDrive/Research/sg_data/realv2_byhole_plyr_weights.csv')\n",
    "hole_weights_df.to_csv('C:/Users/Luke/OneDrive/Research/sg_data/realv2_byhole_hole_weights.csv')"
   ]
  },
  {
   "cell_type": "code",
   "execution_count": 16,
   "metadata": {},
   "outputs": [],
   "source": [
    "nodsr_p_sg_ = pd.read_csv('C:/Users/Luke/OneDrive/Research/sg_data/realv2_byhole_plyr_nodsr.csv').sort_values(by = 'player').reset_index(drop=True)\n",
    "nodsr_h_sg_ = pd.read_csv('C:/Users/Luke/OneDrive/Research/sg_data/realv2_byhole_hole_nodsr.csv').sort_values(by = 'course_hole').reset_index(drop=True)\n",
    "\n",
    "def create_weights(df):\n",
    "    weights = []\n",
    "    n = len(df['p_idx'])\n",
    "    for player in pd.unique(df['p_idx']):\n",
    "        weights.append(len(df[df['p_idx'] == player])/n)\n",
    "    return weights\n",
    "\n",
    "scaled_weights = create_weights(real_df)\n",
    "scaled_weights_df = pd.DataFrame({'plyr': pd.unique(real_df['player']),'p_idx': pd.unique(real_df['p_idx']), 'weight': scaled_weights}).sort_values(by=['p_idx']).set_index(np.arange(len(scaled_weights)))\n",
    "scaled_weights_df['sg_drive_mean']= nodsr_p_sg_['sg_drive']\n",
    "scaled_weights_df['sg_appr_mean']= nodsr_p_sg_['sg_appr']\n",
    "scaled_weights_df['sg_short_mean']= nodsr_p_sg_['sg_short']\n",
    "scaled_weights_df['sg_putt_mean']= nodsr_p_sg_['sg_putt']\n",
    "scaled_weights_df['sg_total_mean']= nodsr_p_sg_['sg_drive'] + nodsr_p_sg_['sg_appr'] + nodsr_p_sg_['sg_short'] +nodsr_p_sg_['sg_putt'] \n",
    "\n",
    "\n",
    "def create_hole_weights(df):\n",
    "    weights = []\n",
    "    n = len(df['h_idx'])\n",
    "    for course in pd.unique(df['h_idx']):\n",
    "        weights.append(len(df[df['h_idx'] == course])/n)\n",
    "    return weights\n",
    "\n",
    "hole_weights = create_hole_weights(real_df)\n",
    "hole_weights_df = pd.DataFrame({'hole': pd.unique(real_df['course_hole']),'h_idx': pd.unique(real_df['h_idx']), 'weight': hole_weights}).sort_values(by=['h_idx']).set_index(np.arange(len(hole_weights)))\n",
    "\n",
    "hole_weights_df['sg_drive_mean']= nodsr_h_sg_['sg_drive']\n",
    "hole_weights_df['sg_appr_mean']= nodsr_h_sg_['sg_appr']\n",
    "hole_weights_df['sg_short_mean']= nodsr_h_sg_['sg_short']\n",
    "hole_weights_df['sg_putt_mean']= nodsr_h_sg_['sg_putt']\n",
    "hole_weights_df['sg_total_mean'] = hole_weights_df['sg_drive_mean'] + hole_weights_df['sg_appr_mean'] + hole_weights_df['sg_short_mean']+ hole_weights_df['sg_putt_mean']\n",
    "\n",
    "\n",
    "scaled_weights_df.to_csv('C:/Users/Luke/OneDrive/Research/sg_data/realv2_scaled_byhole_sg_plyr_weights.csv')\n",
    "hole_weights_df.to_csv('C:/Users/Luke/OneDrive/Research/sg_data/realv2_scaled_byhole_sg_hole_weights.csv')"
   ]
  }
 ],
 "metadata": {
  "kernelspec": {
   "display_name": "Python 3",
   "language": "python",
   "name": "python3"
  },
  "language_info": {
   "codemirror_mode": {
    "name": "ipython",
    "version": 3
   },
   "file_extension": ".py",
   "mimetype": "text/x-python",
   "name": "python",
   "nbconvert_exporter": "python",
   "pygments_lexer": "ipython3",
   "version": "3.7.6"
  }
 },
 "nbformat": 4,
 "nbformat_minor": 4
}
